{
 "cells": [
  {
   "cell_type": "markdown",
   "metadata": {},
   "source": [
    "# Домашнее задание 3\n",
    "\n",
    "## Сбор данных из интернета и генерация текстов\n",
    "\n",
    "В этом домашнем задании вам предстоит: \n",
    "1. выбрать свой источник структурированных данных (прогноз погоды, курс акций, счет спортивных мероприятий, или что-нибудь еще) \n",
    "2. научиться извлекать данные из с выбранной веб-страницы\n",
    "3. научиться генерировать текст по шаблонам"
   ]
  },
  {
   "cell_type": "markdown",
   "metadata": {},
   "source": [
    "## Часть 1\n",
    "\n",
    "Выберете источник данных, который вам симпатичен. По умолчанию, предлагаем использовать данные о погоде в Москве: \n",
    "https://www.gismeteo.ru/weather-moscow-4368/. Извлеките из html-кода страницы температуру сегодня, уровень осадков и скорость ветра."
   ]
  },
  {
   "cell_type": "markdown",
   "metadata": {},
   "source": [
    "## Часть 2\n",
    "Запрограммируйте шаблон, описывающие температуру, уровень осадков и скорость ветра сегодня. Например,\n",
    "\"Температура сегодня составляет X градусов\", где Х – излеченное выше число. Сгенерируйте таким образом описание погоды сегодня. Учтите, величина X влияет на грамматическое число, использованное в единицах измерения (\"двадцать градусов\", но \"двадцать один градус\"). Используйте бибилиотеку utg или дополнительные функции pymorphy2"
   ]
  },
  {
   "cell_type": "code",
   "execution_count": 4,
   "metadata": {},
   "outputs": [
    {
     "name": "stdout",
     "output_type": "stream",
     "text": [
      "бутявки\n",
      "бутявка\n"
     ]
    }
   ],
   "source": [
    "import pymorphy2\n",
    "morph = pymorphy2.MorphAnalyzer()\n",
    "butyavka = morph.parse('бутявка')[0] \n",
    "print(butyavka.inflect({'gent'}).word) #нет кого? родительный падеж\n",
    "print(butyavka.make_agree_with_number(1).word) #согласование с числительным 5"
   ]
  },
  {
   "cell_type": "code",
   "execution_count": 9,
   "metadata": {},
   "outputs": [],
   "source": [
    "import pandas as pd\n",
    "import re\n",
    "import urllib.request\n",
    "\n",
    "from scrapy.selector import Selector\n",
    "from scrapy.http import HtmlResponse\n",
    "from tqdm import tqdm"
   ]
  },
  {
   "cell_type": "code",
   "execution_count": 10,
   "metadata": {
    "collapsed": true
   },
   "outputs": [],
   "source": [
    "url = 'https://www.gismeteo.ru/weather-moscow-4368/'"
   ]
  },
  {
   "cell_type": "code",
   "execution_count": 240,
   "metadata": {},
   "outputs": [],
   "source": [
    "req = urllib.request.Request(url, headers={'User-Agent': \"Magic Browser\"})\n",
    "html = urllib.request.urlopen(url)\n",
    "html = html.read()\n",
    "night = Selector(text=html).xpath(\n",
    "    '/html/body/section/div/div/div[1]/div[3]/div[1]/div[1]/div/div/div[1]/div[3]/div/div/div/div[1]'\n",
    ").extract()"
   ]
  },
  {
   "cell_type": "code",
   "execution_count": 241,
   "metadata": {},
   "outputs": [
    {
     "data": {
      "text/plain": [
       "['<div class=\"value\" style=\"top: 15px; width: 50%;\">−12</div>']"
      ]
     },
     "execution_count": 241,
     "metadata": {},
     "output_type": "execute_result"
    }
   ],
   "source": [
    "night"
   ]
  },
  {
   "cell_type": "code",
   "execution_count": 242,
   "metadata": {},
   "outputs": [
    {
     "data": {
      "text/plain": [
       "'-12'"
      ]
     },
     "execution_count": 242,
     "metadata": {},
     "output_type": "execute_result"
    }
   ],
   "source": [
    "prog1 = re.compile('[0-9−]{1,3}')\n",
    "res = prog1.findall(night[0])\n",
    "night = res[2]\n",
    "night = night.replace('−', '-')\n",
    "night"
   ]
  },
  {
   "cell_type": "code",
   "execution_count": 243,
   "metadata": {
    "collapsed": true
   },
   "outputs": [],
   "source": [
    "req = urllib.request.Request(url, headers={'User-Agent': \"Magic Browser\"})\n",
    "html = urllib.request.urlopen(url)\n",
    "html = html.read()\n",
    "day = Selector(text=html).xpath(\n",
    "    '/html/body/section/div/div/div[1]/div[3]/div[1]/div[1]/div/div/div[1]/div[3]/div/div/div/div[2]'\n",
    ").extract()"
   ]
  },
  {
   "cell_type": "code",
   "execution_count": 244,
   "metadata": {
    "scrolled": true
   },
   "outputs": [
    {
     "data": {
      "text/plain": [
       "['<div class=\"value\" style=\"top: 0px; width: 50%;\">−7</div>']"
      ]
     },
     "execution_count": 244,
     "metadata": {},
     "output_type": "execute_result"
    }
   ],
   "source": [
    "day"
   ]
  },
  {
   "cell_type": "code",
   "execution_count": 245,
   "metadata": {},
   "outputs": [
    {
     "data": {
      "text/plain": [
       "'-7'"
      ]
     },
     "execution_count": 245,
     "metadata": {},
     "output_type": "execute_result"
    }
   ],
   "source": [
    "prog1 = re.compile('[0-9−]{1,3}')\n",
    "res = prog1.findall(day[0])\n",
    "day = res[2]\n",
    "day = day.replace('−', '-')\n",
    "day"
   ]
  },
  {
   "cell_type": "code",
   "execution_count": 246,
   "metadata": {
    "collapsed": true
   },
   "outputs": [],
   "source": [
    "req = urllib.request.Request(url, headers={'User-Agent': \"Magic Browser\"})\n",
    "html = urllib.request.urlopen(url)\n",
    "html = html.read()\n",
    "humidity = Selector(text=html).xpath(\n",
    "    '/html/body/section/div/div/div[1]/div[3]/div[10]/div/div[2]/div[2]/div[2]/div[5]/div'\n",
    ").extract()"
   ]
  },
  {
   "cell_type": "code",
   "execution_count": 247,
   "metadata": {},
   "outputs": [
    {
     "data": {
      "text/plain": [
       "['<div class=\"w-humidity widget__value w_humidity_type_8\">81</div>']"
      ]
     },
     "execution_count": 247,
     "metadata": {},
     "output_type": "execute_result"
    }
   ],
   "source": [
    "humidity"
   ]
  },
  {
   "cell_type": "code",
   "execution_count": 248,
   "metadata": {},
   "outputs": [
    {
     "data": {
      "text/plain": [
       "'81'"
      ]
     },
     "execution_count": 248,
     "metadata": {},
     "output_type": "execute_result"
    }
   ],
   "source": [
    "prog1 = re.compile('[0-9]{2,3}')\n",
    "res = prog1.findall(humidity[0])\n",
    "humidity = res[0]\n",
    "humidity"
   ]
  },
  {
   "cell_type": "code",
   "execution_count": 252,
   "metadata": {
    "collapsed": true
   },
   "outputs": [],
   "source": [
    "req = urllib.request.Request(url, headers={'User-Agent': \"Magic Browser\"})\n",
    "html = urllib.request.urlopen(url)\n",
    "html = html.read()\n",
    "precipitation = Selector(text=html).xpath(\n",
    "    '/html/body/section/div/div/div[1]/div[3]/div[1]/div[2]/div/div[1]/div/div[7]/div[5]'\n",
    ").extract()"
   ]
  },
  {
   "cell_type": "code",
   "execution_count": 253,
   "metadata": {},
   "outputs": [
    {
     "data": {
      "text/plain": [
       "['<div class=\"widget__item w_precipitation\"><div class=\"w_precipitation__value\">\\n        0,1\\n        <svg xmlns=\"http://www.w3.org/2000/svg\" viewbox=\"0 0 20 6\" width=\"20\" height=\"6\"><path fill=\"#149aff\" d=\"M10 1.408C4.03 3.874-.007.464 0 .464V6h20V.464s-4.03-1.52-10 .944z\"></path></svg></div></div>']"
      ]
     },
     "execution_count": 253,
     "metadata": {},
     "output_type": "execute_result"
    }
   ],
   "source": [
    "precipitation"
   ]
  },
  {
   "cell_type": "code",
   "execution_count": 254,
   "metadata": {},
   "outputs": [
    {
     "data": {
      "text/plain": [
       "'0.1'"
      ]
     },
     "execution_count": 254,
     "metadata": {},
     "output_type": "execute_result"
    }
   ],
   "source": [
    "prog1 = re.compile('[0-9,]{1,3}')\n",
    "res = prog1.findall(precipitation[0])\n",
    "precipitation = res[0]\n",
    "precipitation = precipitation.replace(',', '.')\n",
    "precipitation\n"
   ]
  },
  {
   "cell_type": "code",
   "execution_count": 208,
   "metadata": {
    "collapsed": true
   },
   "outputs": [],
   "source": [
    "req = urllib.request.Request(url, headers={'User-Agent': \"Magic Browser\"})\n",
    "html = urllib.request.urlopen(url)\n",
    "html = html.read()\n",
    "wind = Selector(text=html).xpath(\n",
    "    '/html/body/section/div/div/div[1]/div[3]/div[1]/div[2]/div/div[1]/div/div[5]/div[8]/div/div'\n",
    ").extract()"
   ]
  },
  {
   "cell_type": "code",
   "execution_count": 209,
   "metadata": {},
   "outputs": [
    {
     "data": {
      "text/plain": [
       "['<div class=\"w_wind__warning w_wind__warning_\"><div class=\"w_wind__bg\" style=\"background-image: linear-gradient(90deg, rgba(255, 255, 255, .1), rgba(255, 235, 170,1) 30%);\"></div>\\n        7-13\\n    </div>']"
      ]
     },
     "execution_count": 209,
     "metadata": {},
     "output_type": "execute_result"
    }
   ],
   "source": [
    "wind"
   ]
  },
  {
   "cell_type": "code",
   "execution_count": 210,
   "metadata": {},
   "outputs": [
    {
     "data": {
      "text/plain": [
       "'7-13'"
      ]
     },
     "execution_count": 210,
     "metadata": {},
     "output_type": "execute_result"
    }
   ],
   "source": [
    "prog1 = re.compile('[0-9-]{1,5}')\n",
    "res = prog1.findall(wind[0])\n",
    "wind = res[12]\n",
    "wind"
   ]
  },
  {
   "cell_type": "code",
   "execution_count": 221,
   "metadata": {},
   "outputs": [
    {
     "name": "stdout",
     "output_type": "stream",
     "text": [
      "Температура днем: −7 C\n",
      "Температура ночью: −12 C\n",
      "Скорость ветра: 7-13 м/с\n",
      "Осадки: 0,1 мм\n",
      "Влажность: 81 %\n"
     ]
    }
   ],
   "source": [
    "print('Температура днем:', day, 'C')\n",
    "print('Температура ночью:', night, 'C')\n",
    "print('Скорость ветра:', wind, 'м/с')\n",
    "print('Осадки:', precipitation, 'мм')\n",
    "print('Влажность:', humidity, '%')"
   ]
  },
  {
   "cell_type": "markdown",
   "metadata": {},
   "source": [
    "## Часть 2\n",
    "Запрограммируйте шаблон, описывающие температуру, уровень осадков и скорость ветра сегодня. Например,\n",
    "\"Температура сегодня составляет X градусов\", где Х – излеченное выше число. Сгенерируйте таким образом описание погоды сегодня. Учтите, величина X влияет на грамматическое число, использованное в единицах измерения (\"двадцать градусов\", но \"двадцать один градус\"). Используйте бибилиотеку utg или дополнительные функции pymorphy2"
   ]
  },
  {
   "cell_type": "code",
   "execution_count": 223,
   "metadata": {},
   "outputs": [],
   "source": [
    "import pymorphy2\n",
    "morph = pymorphy2.MorphAnalyzer()\n",
    "grad = morph.parse('градус')[0] \n",
    "metr = morph.parse('метр')[0] \n",
    "mmetr = morph.parse('миллиметр')[0] \n",
    "percent = morph.parse('процент')[0] "
   ]
  },
  {
   "cell_type": "code",
   "execution_count": 299,
   "metadata": {},
   "outputs": [
    {
     "name": "stdout",
     "output_type": "stream",
     "text": [
      "Температура днем составляет -7 градусов ночью -12 градусов.\n",
      "Скорость ветра 7-13 метров в секунду.\n",
      "Осадки ожидаються 0.1 миллиметр, влажность составит 81 процент.\n"
     ]
    }
   ],
   "source": [
    "print('Температура днем составляет', day, grad.make_agree_with_number(abs(int(day))).word,\n",
    "      'ночью', night, grad.make_agree_with_number(abs(int(night))).word + '.') \n",
    "print('Скорость ветра', wind, metr.make_agree_with_number(abs(int(wind[2:4]))).word, 'в секунду.')\n",
    "print('Осадки ожидаються', precipitation, mmetr.make_agree_with_number(int(precipitation[-1])).word + ', ' \n",
    "      'влажность составит', humidity, percent.make_agree_with_number(int(humidity)).word +'.')\n"
   ]
  }
 ],
 "metadata": {
  "kernelspec": {
   "display_name": "Python 3",
   "language": "python",
   "name": "python3"
  },
  "language_info": {
   "codemirror_mode": {
    "name": "ipython",
    "version": 3
   },
   "file_extension": ".py",
   "mimetype": "text/x-python",
   "name": "python",
   "nbconvert_exporter": "python",
   "pygments_lexer": "ipython3",
   "version": "3.6.3"
  }
 },
 "nbformat": 4,
 "nbformat_minor": 2
}
